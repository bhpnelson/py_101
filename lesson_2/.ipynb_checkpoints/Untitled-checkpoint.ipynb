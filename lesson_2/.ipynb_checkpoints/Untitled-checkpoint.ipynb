{
 "cells": [
  {
   "cell_type": "code",
   "execution_count": 1,
   "id": "cb9090e0-b750-4626-b313-134802ec5078",
   "metadata": {},
   "outputs": [
    {
     "name": "stdout",
     "output_type": "stream",
     "text": [
      "77.33333333333333\n"
     ]
    }
   ],
   "source": [
    "def process_student(student_data):\n",
    "    name = student_data.get('name')\n",
    "    grade = student_data.get('grade')\n",
    "    return (name, grade)\n",
    "\n",
    "def average_grade(grades):\n",
    "    total = sum(grades)\n",
    "    average = total / len(grades)\n",
    "    return average\n",
    "\n",
    "students = [\n",
    "    {'name': 'Alice', 'grade': 85},\n",
    "    {'name': 'Bob'}, {'name': 'Jack', 'grade': 72},\n",
    "    {'name': 'Jane', 'grade': 75},\n",
    "]\n",
    "\n",
    "def collect_grades(students):\n",
    "    grades = []\n",
    "    for student in students:\n",
    "        name, grade = process_student(student)\n",
    "        if grade:\n",
    "            grades.append(grade)\n",
    "    return grades\n",
    "\n",
    "grades = collect_grades(students)\n",
    "print(average_grade(grades))\n",
    "# TypeError: unsupported operand type(s) for +: 'int'\n",
    "# and 'NoneType'\n"
   ]
  },
  {
   "cell_type": "code",
   "execution_count": 2,
   "id": "2285f8dc-7e77-44ff-b668-3aa8e22f24a4",
   "metadata": {},
   "outputs": [
    {
     "name": "stdout",
     "output_type": "stream",
     "text": [
      "hello world programming\n"
     ]
    }
   ],
   "source": [
    "def titlize(sentence):\n",
    "    words = sentence.split()\n",
    "    new_words = []\n",
    "\n",
    "    for word in words:\n",
    "        if len(word) > 2:\n",
    "            word.capitalize()\n",
    "            new_words.append(word)\n",
    "\n",
    "    return ' '.join(new_words)\n",
    "\n",
    "title = 'hello world of programming'\n",
    "print(titlize(title))\n"
   ]
  },
  {
   "cell_type": "code",
   "execution_count": 7,
   "id": "361587c0-7113-4a1b-a78f-6bbd76a5e60b",
   "metadata": {},
   "outputs": [
    {
     "data": {
      "text/plain": [
       "'Hello World Programming'"
      ]
     },
     "execution_count": 7,
     "metadata": {},
     "output_type": "execute_result"
    }
   ],
   "source": [
    "def titlize(sentence):\n",
    "    words = sentence.split()\n",
    "    new_words = []\n",
    "\n",
    "    for word in words:\n",
    "        if len(word) > 2:\n",
    "            word = word.capitalize()\n",
    "            new_words.append(word)\n",
    "\n",
    "    return ' '.join(new_words)\n",
    "\n",
    "title = 'hello world of programming'\n",
    "# print(titlize(title))\n",
    "titlize(title)\n"
   ]
  },
  {
   "cell_type": "code",
   "execution_count": 8,
   "id": "42df56c1-80f3-45b0-832e-573a4a2f616b",
   "metadata": {},
   "outputs": [
    {
     "name": "stdout",
     "output_type": "stream",
     "text": [
      "Hello World Programming\n"
     ]
    }
   ],
   "source": [
    "def titlize(sentence):\n",
    "    words = sentence.split()\n",
    "    new_words = []\n",
    "\n",
    "    for word in words:\n",
    "        if len(word) > 2:\n",
    "            word = word.capitalize()\n",
    "            new_words.append(word)\n",
    "\n",
    "    return ' '.join(new_words)\n",
    "\n",
    "title = 'hello world of programming'\n",
    "print(titlize(title))"
   ]
  },
  {
   "cell_type": "code",
   "execution_count": null,
   "id": "01fe7985-3aaa-44c7-8443-4d7c7181bdd4",
   "metadata": {},
   "outputs": [],
   "source": [
    "def titlize(sentence):\n",
    "    words = sentence.split()\n",
    "    new_words = []\n",
    "\n",
    "    for word in words:\n",
    "        if len(word) > 2:\n",
    "            word = word.capitalize()\n",
    "            new_words.append(word)\n",
    "        else:\n",
    "            new_words.append(word)\n",
    "\n",
    "    return ' '.join(new_words)\n",
    "\n",
    "title = 'hello world of programming'\n",
    "print(titlize(title))"
   ]
  }
 ],
 "metadata": {
  "kernelspec": {
   "display_name": "Python 3 (ipykernel)",
   "language": "python",
   "name": "python3"
  },
  "language_info": {
   "codemirror_mode": {
    "name": "ipython",
    "version": 3
   },
   "file_extension": ".py",
   "mimetype": "text/x-python",
   "name": "python",
   "nbconvert_exporter": "python",
   "pygments_lexer": "ipython3",
   "version": "3.10.14"
  }
 },
 "nbformat": 4,
 "nbformat_minor": 5
}
