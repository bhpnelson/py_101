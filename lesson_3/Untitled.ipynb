{
 "cells": [
  {
   "cell_type": "code",
   "execution_count": 1,
   "id": "8ae8b625-dbbc-4284-bfaa-7457a7a38cf9",
   "metadata": {},
   "outputs": [
    {
     "name": "stdout",
     "output_type": "stream",
     "text": [
      "True\n",
      "False\n"
     ]
    }
   ],
   "source": [
    "\n",
    "str1 = \"Come over here!\"  # True\n",
    "str2 = \"What's up, Doc?\"  # False\n",
    "\n",
    "print(str1.endswith('!'))\n",
    "print(str2.endswith('!'))"
   ]
  },
  {
   "cell_type": "code",
   "execution_count": 2,
   "id": "8a0b3ff6-517e-41e4-85a1-36ca28b0271a",
   "metadata": {},
   "outputs": [
    {
     "name": "stdout",
     "output_type": "stream",
     "text": [
      "Four score and seven years ago...\n"
     ]
    }
   ],
   "source": [
    "famous_words = \"seven years ago...\"\n",
    "\n",
    "gettysburg_words = \"Four score and \" + famous_words\n",
    "\n",
    "print(gettysburg_words)"
   ]
  },
  {
   "cell_type": "code",
   "execution_count": 4,
   "id": "eb7f1fd7-3dc6-40dd-8d95-2507df317341",
   "metadata": {},
   "outputs": [
    {
     "name": "stdout",
     "output_type": "stream",
     "text": [
      "Four score and seven years ago...\n"
     ]
    }
   ],
   "source": [
    "famous_words = \"seven years ago...\"\n",
    "beginning_words = \"Four score and \"\n",
    "gettysburg_words = beginning_words + famous_words\n",
    "\n",
    "print(gettysburg_words)"
   ]
  },
  {
   "cell_type": "code",
   "execution_count": 5,
   "id": "7a3ae920-9727-4792-9f73-bd0dc92f0fcb",
   "metadata": {},
   "outputs": [
    {
     "name": "stdout",
     "output_type": "stream",
     "text": [
      "The munsters are creepy and spooky.\n"
     ]
    }
   ],
   "source": [
    "munsters_description = \"the Munsters are CREEPY and Spooky.\"\n",
    "\n",
    "print(munsters_description.capitalize())"
   ]
  },
  {
   "cell_type": "code",
   "execution_count": 6,
   "id": "821766a6-d99f-4409-b158-1b57fc832404",
   "metadata": {},
   "outputs": [
    {
     "name": "stdout",
     "output_type": "stream",
     "text": [
      "tHE mUNSTERS ARE CREEPY AND SPOOKY.\n"
     ]
    }
   ],
   "source": [
    "munsters_description = \"The Munsters are creepy and spooky.\"\n",
    "\n",
    "print(munsters_description.swapcase())"
   ]
  },
  {
   "cell_type": "code",
   "execution_count": 7,
   "id": "de7cae9f-f49e-4252-89e6-5cc554efe3b5",
   "metadata": {},
   "outputs": [
    {
     "name": "stdout",
     "output_type": "stream",
     "text": [
      "False\n",
      "True\n"
     ]
    }
   ],
   "source": [
    "str1 = \"Few things in life are as important as house training your pet dinosaur.\"\n",
    "str2 = \"Fred and Wilma have a pet dinosaur named Dino.\"\n",
    "\n",
    "print('Dino' in str1)\n",
    "print('Dino' in str2)"
   ]
  },
  {
   "cell_type": "code",
   "execution_count": 8,
   "id": "9758929f-bf4f-418a-a5f1-033227c7d17a",
   "metadata": {},
   "outputs": [
    {
     "ename": "NameError",
     "evalue": "name 'flinstones' is not defined",
     "output_type": "error",
     "traceback": [
      "\u001b[0;31m---------------------------------------------------------------------------\u001b[0m",
      "\u001b[0;31mNameError\u001b[0m                                 Traceback (most recent call last)",
      "Cell \u001b[0;32mIn[8], line 4\u001b[0m\n\u001b[1;32m      1\u001b[0m flintstones \u001b[38;5;241m=\u001b[39m [\u001b[38;5;124m\"\u001b[39m\u001b[38;5;124mFred\u001b[39m\u001b[38;5;124m\"\u001b[39m, \u001b[38;5;124m\"\u001b[39m\u001b[38;5;124mBarney\u001b[39m\u001b[38;5;124m\"\u001b[39m, \u001b[38;5;124m\"\u001b[39m\u001b[38;5;124mWilma\u001b[39m\u001b[38;5;124m\"\u001b[39m, \u001b[38;5;124m\"\u001b[39m\u001b[38;5;124mBetty\u001b[39m\u001b[38;5;124m\"\u001b[39m, \u001b[38;5;124m\"\u001b[39m\u001b[38;5;124mBambam\u001b[39m\u001b[38;5;124m\"\u001b[39m, \u001b[38;5;124m\"\u001b[39m\u001b[38;5;124mPebbles\u001b[39m\u001b[38;5;124m\"\u001b[39m]\n\u001b[1;32m      3\u001b[0m flintstones\u001b[38;5;241m.\u001b[39mappend(\u001b[38;5;124m\"\u001b[39m\u001b[38;5;124mDino\u001b[39m\u001b[38;5;124m\"\u001b[39m)\n\u001b[0;32m----> 4\u001b[0m \u001b[38;5;28mprint\u001b[39m(\u001b[43mflinstones\u001b[49m)\n",
      "\u001b[0;31mNameError\u001b[0m: name 'flinstones' is not defined"
     ]
    }
   ],
   "source": [
    "flintstones = [\"Fred\", \"Barney\", \"Wilma\", \"Betty\", \"Bambam\", \"Pebbles\"]\n",
    "\n",
    "flintstones.append(\"Dino\")\n",
    "print(flinstones)"
   ]
  },
  {
   "cell_type": "code",
   "execution_count": 9,
   "id": "8d8154d7-d677-4dd0-adb6-66785b7a33cd",
   "metadata": {},
   "outputs": [
    {
     "name": "stdout",
     "output_type": "stream",
     "text": [
      "['Fred', 'Barney', 'Wilma', 'Betty', 'Bambam', 'Pebbles', 'Dino']\n"
     ]
    }
   ],
   "source": [
    "flintstones = [\"Fred\", \"Barney\", \"Wilma\", \"Betty\", \"Bambam\", \"Pebbles\"]\n",
    "\n",
    "flintstones.append(\"Dino\")\n",
    "print(flintstones)"
   ]
  },
  {
   "cell_type": "code",
   "execution_count": 10,
   "id": "4406b5ea-68e7-4081-9759-6c709912061a",
   "metadata": {},
   "outputs": [
    {
     "ename": "TypeError",
     "evalue": "list indices must be integers or slices, not tuple",
     "output_type": "error",
     "traceback": [
      "\u001b[0;31m---------------------------------------------------------------------------\u001b[0m",
      "\u001b[0;31mTypeError\u001b[0m                                 Traceback (most recent call last)",
      "Cell \u001b[0;32mIn[10], line 3\u001b[0m\n\u001b[1;32m      1\u001b[0m flintstones \u001b[38;5;241m=\u001b[39m [\u001b[38;5;124m\"\u001b[39m\u001b[38;5;124mFred\u001b[39m\u001b[38;5;124m\"\u001b[39m, \u001b[38;5;124m\"\u001b[39m\u001b[38;5;124mBarney\u001b[39m\u001b[38;5;124m\"\u001b[39m, \u001b[38;5;124m\"\u001b[39m\u001b[38;5;124mWilma\u001b[39m\u001b[38;5;124m\"\u001b[39m, \u001b[38;5;124m\"\u001b[39m\u001b[38;5;124mBetty\u001b[39m\u001b[38;5;124m\"\u001b[39m, \u001b[38;5;124m\"\u001b[39m\u001b[38;5;124mBambam\u001b[39m\u001b[38;5;124m\"\u001b[39m, \u001b[38;5;124m\"\u001b[39m\u001b[38;5;124mPebbles\u001b[39m\u001b[38;5;124m\"\u001b[39m]\n\u001b[0;32m----> 3\u001b[0m \u001b[43mflintstones\u001b[49m\u001b[43m[\u001b[49m\u001b[38;5;241;43m6\u001b[39;49m\u001b[43m,\u001b[49m\u001b[38;5;241;43m7\u001b[39;49m\u001b[43m]\u001b[49m \u001b[38;5;241m=\u001b[39m \u001b[38;5;124m\"\u001b[39m\u001b[38;5;124mDino\u001b[39m\u001b[38;5;124m\"\u001b[39m, \u001b[38;5;124m\"\u001b[39m\u001b[38;5;124mHoppy\u001b[39m\u001b[38;5;124m\"\u001b[39m\n",
      "\u001b[0;31mTypeError\u001b[0m: list indices must be integers or slices, not tuple"
     ]
    }
   ],
   "source": [
    "flintstones = [\"Fred\", \"Barney\", \"Wilma\", \"Betty\", \"Bambam\", \"Pebbles\"]\n",
    "\n",
    "flintstones[6,7] = \"Dino\", \"Hoppy\""
   ]
  },
  {
   "cell_type": "code",
   "execution_count": 11,
   "id": "8e03daf9-c3d8-4089-844a-64d17844e796",
   "metadata": {},
   "outputs": [
    {
     "ename": "SyntaxError",
     "evalue": "invalid syntax (4242434707.py, line 2)",
     "output_type": "error",
     "traceback": [
      "\u001b[0;36m  Cell \u001b[0;32mIn[11], line 2\u001b[0;36m\u001b[0m\n\u001b[0;31m    flintstones[7[ = \"Hoppy\"\u001b[0m\n\u001b[0m                   ^\u001b[0m\n\u001b[0;31mSyntaxError\u001b[0m\u001b[0;31m:\u001b[0m invalid syntax\n"
     ]
    }
   ],
   "source": [
    "flintstones[6] = \"Dino\"\n",
    "flintstones[7[ = \"Hoppy\""
   ]
  },
  {
   "cell_type": "code",
   "execution_count": 12,
   "id": "a050c3bd-52de-4688-a04a-b39179726a26",
   "metadata": {},
   "outputs": [
    {
     "ename": "IndexError",
     "evalue": "list assignment index out of range",
     "output_type": "error",
     "traceback": [
      "\u001b[0;31m---------------------------------------------------------------------------\u001b[0m",
      "\u001b[0;31mIndexError\u001b[0m                                Traceback (most recent call last)",
      "Cell \u001b[0;32mIn[12], line 1\u001b[0m\n\u001b[0;32m----> 1\u001b[0m \u001b[43mflintstones\u001b[49m\u001b[43m[\u001b[49m\u001b[38;5;241;43m6\u001b[39;49m\u001b[43m]\u001b[49m \u001b[38;5;241m=\u001b[39m \u001b[38;5;124m\"\u001b[39m\u001b[38;5;124mDino\u001b[39m\u001b[38;5;124m\"\u001b[39m\n\u001b[1;32m      2\u001b[0m flintstones[\u001b[38;5;241m7\u001b[39m] \u001b[38;5;241m=\u001b[39m \u001b[38;5;124m\"\u001b[39m\u001b[38;5;124mHoppy\u001b[39m\u001b[38;5;124m\"\u001b[39m\n",
      "\u001b[0;31mIndexError\u001b[0m: list assignment index out of range"
     ]
    }
   ],
   "source": [
    "flintstones[6] = \"Dino\"\n",
    "flintstones[7] = \"Hoppy\"\n",
    "\n"
   ]
  },
  {
   "cell_type": "code",
   "execution_count": 13,
   "id": "312b8724-e980-46be-a423-f0cfa056346d",
   "metadata": {},
   "outputs": [
    {
     "ename": "SyntaxError",
     "evalue": "invalid syntax (1322569056.py, line 2)",
     "output_type": "error",
     "traceback": [
      "\u001b[0;36m  Cell \u001b[0;32mIn[13], line 2\u001b[0;36m\u001b[0m\n\u001b[0;31m    flintstones[6[ = \"Hoppy\"\u001b[0m\n\u001b[0m                   ^\u001b[0m\n\u001b[0;31mSyntaxError\u001b[0m\u001b[0;31m:\u001b[0m invalid syntax\n"
     ]
    }
   ],
   "source": [
    "flintstones[5] = \"Dino\"\n",
    "flintstones[6[ = \"Hoppy\""
   ]
  },
  {
   "cell_type": "code",
   "execution_count": 14,
   "id": "ddf52f7f-f622-4196-8142-80ca873bc31c",
   "metadata": {},
   "outputs": [
    {
     "ename": "IndexError",
     "evalue": "list assignment index out of range",
     "output_type": "error",
     "traceback": [
      "\u001b[0;31m---------------------------------------------------------------------------\u001b[0m",
      "\u001b[0;31mIndexError\u001b[0m                                Traceback (most recent call last)",
      "Cell \u001b[0;32mIn[14], line 2\u001b[0m\n\u001b[1;32m      1\u001b[0m flintstones[\u001b[38;5;241m5\u001b[39m] \u001b[38;5;241m=\u001b[39m \u001b[38;5;124m\"\u001b[39m\u001b[38;5;124mDino\u001b[39m\u001b[38;5;124m\"\u001b[39m\n\u001b[0;32m----> 2\u001b[0m \u001b[43mflintstones\u001b[49m\u001b[43m[\u001b[49m\u001b[38;5;241;43m6\u001b[39;49m\u001b[43m]\u001b[49m \u001b[38;5;241m=\u001b[39m \u001b[38;5;124m\"\u001b[39m\u001b[38;5;124mHoppy\u001b[39m\u001b[38;5;124m\"\u001b[39m\n",
      "\u001b[0;31mIndexError\u001b[0m: list assignment index out of range"
     ]
    }
   ],
   "source": [
    "flintstones[5] = \"Dino\"\n",
    "flintstones[6] = \"Hoppy\""
   ]
  },
  {
   "cell_type": "code",
   "execution_count": null,
   "id": "39f4d92d-6eae-4a72-88ee-fbbed4f5ab39",
   "metadata": {},
   "outputs": [],
   "source": []
  },
  {
   "cell_type": "code",
   "execution_count": 16,
   "id": "0f91f2e2-f785-437e-bbc8-4c80ba1d05f4",
   "metadata": {},
   "outputs": [
    {
     "name": "stdout",
     "output_type": "stream",
     "text": [
      "['Few', 'things', 'in', 'life', 'are', 'as', 'important', 'as', 'house', 'training', 'your', 'pet', 'dinosaur.']\n"
     ]
    }
   ],
   "source": [
    "advice = \"Few things in life are as important as house training your pet dinosaur.\"\n",
    "# Expected output:\n",
    "# Few things in life are as important as\n",
    "print(advice.split(\" \"))"
   ]
  },
  {
   "cell_type": "code",
   "execution_count": 17,
   "id": "d6a7e003-03c9-4c97-b4b1-17d04634f7a2",
   "metadata": {},
   "outputs": [
    {
     "ename": "AttributeError",
     "evalue": "'str' object has no attribute 'pop'",
     "output_type": "error",
     "traceback": [
      "\u001b[0;31m---------------------------------------------------------------------------\u001b[0m",
      "\u001b[0;31mAttributeError\u001b[0m                            Traceback (most recent call last)",
      "Cell \u001b[0;32mIn[17], line 1\u001b[0m\n\u001b[0;32m----> 1\u001b[0m advice \u001b[38;5;241m=\u001b[39m \u001b[43madvice\u001b[49m\u001b[38;5;241;43m.\u001b[39;49m\u001b[43mpop\u001b[49m[\u001b[38;5;241m0\u001b[39m:\u001b[38;5;241m8\u001b[39m]\n",
      "\u001b[0;31mAttributeError\u001b[0m: 'str' object has no attribute 'pop'"
     ]
    }
   ],
   "source": [
    "advice = advice.pop[0:8]"
   ]
  },
  {
   "cell_type": "code",
   "execution_count": 18,
   "id": "c3ac03e5-6c63-4e4a-88fc-976c5b076c37",
   "metadata": {},
   "outputs": [
    {
     "ename": "SyntaxError",
     "evalue": "unmatched ')' (4218998912.py, line 4)",
     "output_type": "error",
     "traceback": [
      "\u001b[0;36m  Cell \u001b[0;32mIn[18], line 4\u001b[0;36m\u001b[0m\n\u001b[0;31m    advice = advice.split(\" \"))\u001b[0m\n\u001b[0m                              ^\u001b[0m\n\u001b[0;31mSyntaxError\u001b[0m\u001b[0;31m:\u001b[0m unmatched ')'\n"
     ]
    }
   ],
   "source": [
    "advice = \"Few things in life are as important as house training your pet dinosaur.\"\n",
    "# Expected output:\n",
    "# Few things in life are as important as\n",
    "advice = advice.split(\" \"))\n",
    "advice = advice.pop[0:8]\n",
    "advice = advice.join(\" \")"
   ]
  },
  {
   "cell_type": "code",
   "execution_count": 19,
   "id": "ef457747-8180-42f3-96a0-16ef75fe615c",
   "metadata": {},
   "outputs": [
    {
     "ename": "TypeError",
     "evalue": "'builtin_function_or_method' object is not subscriptable",
     "output_type": "error",
     "traceback": [
      "\u001b[0;31m---------------------------------------------------------------------------\u001b[0m",
      "\u001b[0;31mTypeError\u001b[0m                                 Traceback (most recent call last)",
      "Cell \u001b[0;32mIn[19], line 5\u001b[0m\n\u001b[1;32m      2\u001b[0m \u001b[38;5;66;03m# Expected output:\u001b[39;00m\n\u001b[1;32m      3\u001b[0m \u001b[38;5;66;03m# Few things in life are as important as\u001b[39;00m\n\u001b[1;32m      4\u001b[0m advice \u001b[38;5;241m=\u001b[39m advice\u001b[38;5;241m.\u001b[39msplit(\u001b[38;5;124m\"\u001b[39m\u001b[38;5;124m \u001b[39m\u001b[38;5;124m\"\u001b[39m)\n\u001b[0;32m----> 5\u001b[0m advice \u001b[38;5;241m=\u001b[39m \u001b[43madvice\u001b[49m\u001b[38;5;241;43m.\u001b[39;49m\u001b[43mpop\u001b[49m\u001b[43m[\u001b[49m\u001b[38;5;241;43m0\u001b[39;49m\u001b[43m:\u001b[49m\u001b[38;5;241;43m8\u001b[39;49m\u001b[43m]\u001b[49m\n\u001b[1;32m      6\u001b[0m advice \u001b[38;5;241m=\u001b[39m advice\u001b[38;5;241m.\u001b[39mjoin(\u001b[38;5;124m\"\u001b[39m\u001b[38;5;124m \u001b[39m\u001b[38;5;124m\"\u001b[39m)\n",
      "\u001b[0;31mTypeError\u001b[0m: 'builtin_function_or_method' object is not subscriptable"
     ]
    }
   ],
   "source": [
    "advice = \"Few things in life are as important as house training your pet dinosaur.\"\n",
    "# Expected output:\n",
    "# Few things in life are as important as\n",
    "advice = advice.split(\" \")\n",
    "advice = advice.pop[0:8]\n",
    "advice = advice.join(\" \")"
   ]
  },
  {
   "cell_type": "code",
   "execution_count": 20,
   "id": "d7734d9a-3abd-4093-9ca6-a7ca1966134c",
   "metadata": {},
   "outputs": [
    {
     "ename": "SyntaxError",
     "evalue": "unmatched ')' (1283144603.py, line 4)",
     "output_type": "error",
     "traceback": [
      "\u001b[0;36m  Cell \u001b[0;32mIn[20], line 4\u001b[0;36m\u001b[0m\n\u001b[0;31m    advice = advice.split(\" \"))\u001b[0m\n\u001b[0m                              ^\u001b[0m\n\u001b[0;31mSyntaxError\u001b[0m\u001b[0;31m:\u001b[0m unmatched ')'\n"
     ]
    }
   ],
   "source": [
    "advice = \"Few things in life are as important as house training your pet dinosaur.\"\n",
    "# Expected output:\n",
    "# Few things in life are as important as\n",
    "advice = advice.split(\" \"))\n",
    "advice = advice.pop[0]\n",
    "advice = advice.join(\" \")"
   ]
  },
  {
   "cell_type": "code",
   "execution_count": 21,
   "id": "40ac4bb8-eacb-4671-8ed5-15e72fa24d18",
   "metadata": {},
   "outputs": [
    {
     "ename": "TypeError",
     "evalue": "'builtin_function_or_method' object is not subscriptable",
     "output_type": "error",
     "traceback": [
      "\u001b[0;31m---------------------------------------------------------------------------\u001b[0m",
      "\u001b[0;31mTypeError\u001b[0m                                 Traceback (most recent call last)",
      "Cell \u001b[0;32mIn[21], line 5\u001b[0m\n\u001b[1;32m      2\u001b[0m \u001b[38;5;66;03m# Expected output:\u001b[39;00m\n\u001b[1;32m      3\u001b[0m \u001b[38;5;66;03m# Few things in life are as important as\u001b[39;00m\n\u001b[1;32m      4\u001b[0m advice \u001b[38;5;241m=\u001b[39m advice\u001b[38;5;241m.\u001b[39msplit(\u001b[38;5;124m\"\u001b[39m\u001b[38;5;124m \u001b[39m\u001b[38;5;124m\"\u001b[39m)\n\u001b[0;32m----> 5\u001b[0m advice \u001b[38;5;241m=\u001b[39m \u001b[43madvice\u001b[49m\u001b[38;5;241;43m.\u001b[39;49m\u001b[43mpop\u001b[49m\u001b[43m[\u001b[49m\u001b[38;5;241;43m0\u001b[39;49m\u001b[43m]\u001b[49m\n\u001b[1;32m      6\u001b[0m advice \u001b[38;5;241m=\u001b[39m advice\u001b[38;5;241m.\u001b[39mjoin(\u001b[38;5;124m\"\u001b[39m\u001b[38;5;124m \u001b[39m\u001b[38;5;124m\"\u001b[39m)\n",
      "\u001b[0;31mTypeError\u001b[0m: 'builtin_function_or_method' object is not subscriptable"
     ]
    }
   ],
   "source": [
    "advice = \"Few things in life are as important as house training your pet dinosaur.\"\n",
    "# Expected output:\n",
    "# Few things in life are as important as\n",
    "advice = advice.split(\" \")\n",
    "advice = advice.pop[0]\n",
    "advice = advice.join(\" \")"
   ]
  },
  {
   "cell_type": "code",
   "execution_count": 22,
   "id": "da35e5ee-9af6-4088-96d7-b5395525f75f",
   "metadata": {},
   "outputs": [
    {
     "ename": "SyntaxError",
     "evalue": "invalid syntax (4064742090.py, line 5)",
     "output_type": "error",
     "traceback": [
      "\u001b[0;36m  Cell \u001b[0;32mIn[22], line 5\u001b[0;36m\u001b[0m\n\u001b[0;31m    advice = advice.pop(0:8)\u001b[0m\n\u001b[0m                         ^\u001b[0m\n\u001b[0;31mSyntaxError\u001b[0m\u001b[0;31m:\u001b[0m invalid syntax\n"
     ]
    }
   ],
   "source": [
    "advice = \"Few things in life are as important as house training your pet dinosaur.\"\n",
    "# Expected output:\n",
    "# Few things in life are as important as\n",
    "advice = advice.split(\" \")\n",
    "advice = advice.pop(0:8)\n",
    "advice = advice.join(\" \")"
   ]
  },
  {
   "cell_type": "code",
   "execution_count": 24,
   "id": "bb2ced8c-7dbb-4741-a7ab-465752d8d331",
   "metadata": {},
   "outputs": [
    {
     "ename": "AttributeError",
     "evalue": "'list' object has no attribute 'join'",
     "output_type": "error",
     "traceback": [
      "\u001b[0;31m---------------------------------------------------------------------------\u001b[0m",
      "\u001b[0;31mAttributeError\u001b[0m                            Traceback (most recent call last)",
      "Cell \u001b[0;32mIn[24], line 10\u001b[0m\n\u001b[1;32m      8\u001b[0m     \u001b[38;5;28;01melse\u001b[39;00m:\n\u001b[1;32m      9\u001b[0m         advice\u001b[38;5;241m.\u001b[39mpop(\u001b[38;5;241m0\u001b[39m)\n\u001b[0;32m---> 10\u001b[0m         advice \u001b[38;5;241m=\u001b[39m \u001b[43madvice\u001b[49m\u001b[38;5;241;43m.\u001b[39;49m\u001b[43mjoin\u001b[49m(\u001b[38;5;124m\"\u001b[39m\u001b[38;5;124m \u001b[39m\u001b[38;5;124m\"\u001b[39m)\n\u001b[1;32m     12\u001b[0m \u001b[38;5;28mprint\u001b[39m(advice)\n",
      "\u001b[0;31mAttributeError\u001b[0m: 'list' object has no attribute 'join'"
     ]
    }
   ],
   "source": [
    "advice = \"Few things in life are as important as house training your pet dinosaur.\"\n",
    "# Expected output:\n",
    "# Few things in life are as important as\n",
    "advice = advice.split(\" \")\n",
    "for word in advice:\n",
    "    if word != \"house\":\n",
    "        advice.pop(0)\n",
    "    else:\n",
    "        advice.pop(0)\n",
    "        advice = advice.join(\" \")\n",
    "        \n",
    "print(advice)"
   ]
  },
  {
   "cell_type": "code",
   "execution_count": 25,
   "id": "03dbba7c-f8a1-403e-9ba4-f9db02dae83f",
   "metadata": {},
   "outputs": [
    {
     "ename": "AttributeError",
     "evalue": "'str' object has no attribute 'pop'",
     "output_type": "error",
     "traceback": [
      "\u001b[0;31m---------------------------------------------------------------------------\u001b[0m",
      "\u001b[0;31mAttributeError\u001b[0m                            Traceback (most recent call last)",
      "Cell \u001b[0;32mIn[25], line 7\u001b[0m\n\u001b[1;32m      5\u001b[0m \u001b[38;5;28;01mfor\u001b[39;00m word \u001b[38;5;129;01min\u001b[39;00m advice:\n\u001b[1;32m      6\u001b[0m     \u001b[38;5;28;01mif\u001b[39;00m word \u001b[38;5;241m!=\u001b[39m \u001b[38;5;124m\"\u001b[39m\u001b[38;5;124mhouse\u001b[39m\u001b[38;5;124m\"\u001b[39m:\n\u001b[0;32m----> 7\u001b[0m         \u001b[43madvice\u001b[49m\u001b[38;5;241;43m.\u001b[39;49m\u001b[43mpop\u001b[49m(\u001b[38;5;241m0\u001b[39m)\n\u001b[1;32m      8\u001b[0m     \u001b[38;5;28;01melse\u001b[39;00m:\n\u001b[1;32m      9\u001b[0m         advice\u001b[38;5;241m.\u001b[39mpop(\u001b[38;5;241m0\u001b[39m)\n",
      "\u001b[0;31mAttributeError\u001b[0m: 'str' object has no attribute 'pop'"
     ]
    }
   ],
   "source": [
    "advice = \"Few things in life are as important as house training your pet dinosaur.\"\n",
    "# Expected output:\n",
    "# Few things in life are as important as\n",
    "advice = advice.split(\" \")\n",
    "for word in advice:\n",
    "    if word != \"house\":\n",
    "        advice.pop(0)\n",
    "    else:\n",
    "        advice.pop(0)\n",
    "        advice = \" \".join(advice)\n",
    "        \n",
    "print(advice)"
   ]
  },
  {
   "cell_type": "code",
   "execution_count": 26,
   "id": "75f8e548-c0c7-4b41-a827-840e99582c9a",
   "metadata": {},
   "outputs": [
    {
     "ename": "AttributeError",
     "evalue": "'list' object has no attribute 'join'",
     "output_type": "error",
     "traceback": [
      "\u001b[0;31m---------------------------------------------------------------------------\u001b[0m",
      "\u001b[0;31mAttributeError\u001b[0m                            Traceback (most recent call last)",
      "Cell \u001b[0;32mIn[26], line 11\u001b[0m\n\u001b[1;32m      9\u001b[0m     \u001b[38;5;28;01melse\u001b[39;00m:\n\u001b[1;32m     10\u001b[0m         advice\u001b[38;5;241m.\u001b[39mpop(\u001b[38;5;241m0\u001b[39m)\n\u001b[0;32m---> 11\u001b[0m         advice \u001b[38;5;241m=\u001b[39m \u001b[43madvice\u001b[49m\u001b[38;5;241;43m.\u001b[39;49m\u001b[43mjoin\u001b[49m(\u001b[38;5;124m\"\u001b[39m\u001b[38;5;124m \u001b[39m\u001b[38;5;124m\"\u001b[39m)\n\u001b[1;32m     13\u001b[0m \u001b[38;5;28mprint\u001b[39m(advice)\n",
      "\u001b[0;31mAttributeError\u001b[0m: 'list' object has no attribute 'join'"
     ]
    }
   ],
   "source": [
    "advice = \"Few things in life are as important as house training your pet dinosaur.\"\n",
    "# Expected output:\n",
    "# Few things in life are as important as\n",
    "advice = advice.split(\" \")\n",
    "\n",
    "for word in advice:\n",
    "    if word != \"house\":\n",
    "        advice.pop(0)\n",
    "    else:\n",
    "        advice.pop(0)\n",
    "        advice = advice.join(\" \")\n",
    "        \n",
    "print(advice)"
   ]
  },
  {
   "cell_type": "code",
   "execution_count": 28,
   "id": "005ee177-90de-4a6d-a48e-4f477aa6a40e",
   "metadata": {},
   "outputs": [
    {
     "name": "stdout",
     "output_type": "stream",
     "text": [
      "['Few', 'things', 'in', 'life', 'are', 'as', 'important', 'as', 'house', 'training', 'your', 'pet', 'dinosaur.']\n",
      "['as', 'important', 'as', 'house', 'training', 'your', 'pet', 'dinosaur.']\n"
     ]
    },
    {
     "ename": "AttributeError",
     "evalue": "'str' object has no attribute 'pop'",
     "output_type": "error",
     "traceback": [
      "\u001b[0;31m---------------------------------------------------------------------------\u001b[0m",
      "\u001b[0;31mAttributeError\u001b[0m                            Traceback (most recent call last)",
      "Cell \u001b[0;32mIn[28], line 8\u001b[0m\n\u001b[1;32m      6\u001b[0m \u001b[38;5;28;01mfor\u001b[39;00m word \u001b[38;5;129;01min\u001b[39;00m advice:\n\u001b[1;32m      7\u001b[0m     \u001b[38;5;28;01mif\u001b[39;00m word \u001b[38;5;241m!=\u001b[39m \u001b[38;5;124m\"\u001b[39m\u001b[38;5;124mhouse\u001b[39m\u001b[38;5;124m\"\u001b[39m:\n\u001b[0;32m----> 8\u001b[0m         \u001b[43madvice\u001b[49m\u001b[38;5;241;43m.\u001b[39;49m\u001b[43mpop\u001b[49m(\u001b[38;5;241m0\u001b[39m)\n\u001b[1;32m      9\u001b[0m     \u001b[38;5;28;01melse\u001b[39;00m:\n\u001b[1;32m     10\u001b[0m         advice\u001b[38;5;241m.\u001b[39mpop(\u001b[38;5;241m0\u001b[39m)\n",
      "\u001b[0;31mAttributeError\u001b[0m: 'str' object has no attribute 'pop'"
     ]
    }
   ],
   "source": [
    "advice = \"Few things in life are as important as house training your pet dinosaur.\"\n",
    "# Expected output:\n",
    "# Few things in life are as important as\n",
    "advice = advice.split(\" \")\n",
    "print(advice)\n",
    "for word in advice:\n",
    "    if word != \"house\":\n",
    "        advice.pop(0)\n",
    "    else:\n",
    "        advice.pop(0)\n",
    "        print(advice)\n",
    "        advice = \" \".join(advice)\n",
    "        \n",
    "print(advice)"
   ]
  },
  {
   "cell_type": "code",
   "execution_count": 34,
   "id": "aa6cb3e8-a748-4389-a8be-7994af1d7c02",
   "metadata": {},
   "outputs": [
    {
     "name": "stdout",
     "output_type": "stream",
     "text": [
      "Few things in life are as important as\n"
     ]
    }
   ],
   "source": [
    "advice = \"Few things in life are as important as house training your pet dinosaur.\"\n",
    "# Expected output:\n",
    "# Few things in life are as important as\n",
    "advice = advice.split(\" \")\n",
    "advice.pop(-1)\n",
    "advice.pop(-1)\n",
    "advice.pop(-1)\n",
    "advice.pop(-1)\n",
    "advice.pop(-1)\n",
    "\n",
    "advice = \" \".join(advice)\n",
    "print(advice)\n"
   ]
  },
  {
   "cell_type": "code",
   "execution_count": 35,
   "id": "90b7ff4d-e4f9-47b7-9260-e8a95deffc25",
   "metadata": {},
   "outputs": [
    {
     "name": "stdout",
     "output_type": "stream",
     "text": [
      "Few things in life are as important as\n"
     ]
    }
   ],
   "source": [
    "print(advice.split(\"house\")[0])"
   ]
  },
  {
   "cell_type": "code",
   "execution_count": 36,
   "id": "3434effb-50c9-4bb2-a02a-78276e11e8ce",
   "metadata": {},
   "outputs": [
    {
     "ename": "IndexError",
     "evalue": "list index out of range",
     "output_type": "error",
     "traceback": [
      "\u001b[0;31m---------------------------------------------------------------------------\u001b[0m",
      "\u001b[0;31mIndexError\u001b[0m                                Traceback (most recent call last)",
      "Cell \u001b[0;32mIn[36], line 1\u001b[0m\n\u001b[0;32m----> 1\u001b[0m \u001b[38;5;28mprint\u001b[39m(\u001b[43madvice\u001b[49m\u001b[38;5;241;43m.\u001b[39;49m\u001b[43msplit\u001b[49m\u001b[43m(\u001b[49m\u001b[38;5;124;43m\"\u001b[39;49m\u001b[38;5;124;43mhouse\u001b[39;49m\u001b[38;5;124;43m\"\u001b[39;49m\u001b[43m)\u001b[49m\u001b[43m[\u001b[49m\u001b[38;5;241;43m1\u001b[39;49m\u001b[43m]\u001b[49m)\n",
      "\u001b[0;31mIndexError\u001b[0m: list index out of range"
     ]
    }
   ],
   "source": [
    "print(advice.split(\"house\")[1])"
   ]
  },
  {
   "cell_type": "code",
   "execution_count": 37,
   "id": "dd9e39e4-2648-4da6-9b88-591114c87753",
   "metadata": {},
   "outputs": [
    {
     "name": "stdout",
     "output_type": "stream",
     "text": [
      "Few things in life are as important as \n"
     ]
    }
   ],
   "source": [
    "advice = \"Few things in life are as important as house training your pet dinosaur.\"\n",
    "# Expected output:\n",
    "# Few things in life are as important as\n",
    "print(advice.split(\"house\")[0])"
   ]
  },
  {
   "cell_type": "code",
   "execution_count": 38,
   "id": "85f1a42a-0012-4d58-a1c8-d19f096d05a8",
   "metadata": {},
   "outputs": [
    {
     "name": "stdout",
     "output_type": "stream",
     "text": [
      " training your pet dinosaur.\n"
     ]
    }
   ],
   "source": [
    "advice = \"Few things in life are as important as house training your pet dinosaur.\"\n",
    "# Expected output:\n",
    "# Few things in life are as important as\n",
    "print(advice.split(\"house\")[1])"
   ]
  },
  {
   "cell_type": "code",
   "execution_count": 39,
   "id": "cff2b0a8-0f0b-464c-8113-e9562d7399e4",
   "metadata": {},
   "outputs": [
    {
     "ename": "AttributeError",
     "evalue": "'list' object has no attribute 'find'",
     "output_type": "error",
     "traceback": [
      "\u001b[0;31m---------------------------------------------------------------------------\u001b[0m",
      "\u001b[0;31mAttributeError\u001b[0m                            Traceback (most recent call last)",
      "Cell \u001b[0;32mIn[39], line 3\u001b[0m\n\u001b[1;32m      1\u001b[0m advice \u001b[38;5;241m=\u001b[39m \u001b[38;5;124m\"\u001b[39m\u001b[38;5;124mFew things in life are as important as house training your pet dinosaur.\u001b[39m\u001b[38;5;124m\"\u001b[39m\n\u001b[1;32m      2\u001b[0m advice \u001b[38;5;241m=\u001b[39m advice\u001b[38;5;241m.\u001b[39msplit(\u001b[38;5;124m\"\u001b[39m\u001b[38;5;124m \u001b[39m\u001b[38;5;124m\"\u001b[39m)\n\u001b[0;32m----> 3\u001b[0m \u001b[38;5;28mprint\u001b[39m(\u001b[43madvice\u001b[49m\u001b[38;5;241;43m.\u001b[39;49m\u001b[43mfind\u001b[49m(\u001b[38;5;124m\"\u001b[39m\u001b[38;5;124mimportant\u001b[39m\u001b[38;5;124m\"\u001b[39m))\n",
      "\u001b[0;31mAttributeError\u001b[0m: 'list' object has no attribute 'find'"
     ]
    }
   ],
   "source": [
    "advice = \"Few things in life are as important as house training your pet dinosaur.\"\n",
    "advice = advice.split(\" \")\n",
    "print(advice.find(\"important\"))"
   ]
  },
  {
   "cell_type": "code",
   "execution_count": 41,
   "id": "777cf502-521c-4756-97b0-b4f9d1c07104",
   "metadata": {},
   "outputs": [
    {
     "name": "stdout",
     "output_type": "stream",
     "text": [
      "26\n"
     ]
    }
   ],
   "source": [
    "advice = \"Few things in life are as important as house training your pet dinosaur.\"\n",
    "print(advice.find(\"important\"))"
   ]
  },
  {
   "cell_type": "code",
   "execution_count": 42,
   "id": "2e488d16-deb2-4826-abb0-504afc79df02",
   "metadata": {},
   "outputs": [
    {
     "ename": "AttributeError",
     "evalue": "'list' object has no attribute 'reversed'",
     "output_type": "error",
     "traceback": [
      "\u001b[0;31m---------------------------------------------------------------------------\u001b[0m",
      "\u001b[0;31mAttributeError\u001b[0m                            Traceback (most recent call last)",
      "Cell \u001b[0;32mIn[42], line 3\u001b[0m\n\u001b[1;32m      1\u001b[0m numbers \u001b[38;5;241m=\u001b[39m [\u001b[38;5;241m1\u001b[39m, \u001b[38;5;241m2\u001b[39m, \u001b[38;5;241m3\u001b[39m, \u001b[38;5;241m4\u001b[39m, \u001b[38;5;241m5\u001b[39m]\n\u001b[0;32m----> 3\u001b[0m numbers \u001b[38;5;241m=\u001b[39m \u001b[38;5;28mlist\u001b[39m(\u001b[43mnumbers\u001b[49m\u001b[38;5;241;43m.\u001b[39;49m\u001b[43mreversed\u001b[49m())\n\u001b[1;32m      4\u001b[0m \u001b[38;5;28mprint\u001b[39m(numbers)\n",
      "\u001b[0;31mAttributeError\u001b[0m: 'list' object has no attribute 'reversed'"
     ]
    }
   ],
   "source": [
    "numbers = [1, 2, 3, 4, 5]\n",
    "\n",
    "numbers = list(numbers.reversed())\n",
    "print(numbers)"
   ]
  },
  {
   "cell_type": "code",
   "execution_count": 43,
   "id": "9f2f8cab-badf-4dd8-bd82-046aa7a2a22f",
   "metadata": {},
   "outputs": [
    {
     "ename": "SyntaxError",
     "evalue": "invalid syntax (506136066.py, line 3)",
     "output_type": "error",
     "traceback": [
      "\u001b[0;36m  Cell \u001b[0;32mIn[43], line 3\u001b[0;36m\u001b[0m\n\u001b[0;31m    numbers = list(.reversed(numbers))\u001b[0m\n\u001b[0m                   ^\u001b[0m\n\u001b[0;31mSyntaxError\u001b[0m\u001b[0;31m:\u001b[0m invalid syntax\n"
     ]
    }
   ],
   "source": [
    "numbers = [1, 2, 3, 4, 5]\n",
    "\n",
    "numbers = list(.reversed(numbers))\n",
    "print(numbers)"
   ]
  },
  {
   "cell_type": "code",
   "execution_count": 44,
   "id": "272a9ecd-dbfc-4db6-bf21-9b4e56f497db",
   "metadata": {},
   "outputs": [
    {
     "name": "stdout",
     "output_type": "stream",
     "text": [
      "[5, 4, 3, 2, 1]\n"
     ]
    }
   ],
   "source": [
    "numbers = [1, 2, 3, 4, 5]\n",
    "\n",
    "numbers = list(reversed(numbers))\n",
    "print(numbers)"
   ]
  },
  {
   "cell_type": "code",
   "execution_count": 45,
   "id": "432afbdc-3536-49a7-8397-9bf5de025443",
   "metadata": {},
   "outputs": [
    {
     "ename": "TypeError",
     "evalue": "'list' object is not callable",
     "output_type": "error",
     "traceback": [
      "\u001b[0;31m---------------------------------------------------------------------------\u001b[0m",
      "\u001b[0;31mTypeError\u001b[0m                                 Traceback (most recent call last)",
      "Cell \u001b[0;32mIn[45], line 3\u001b[0m\n\u001b[1;32m      1\u001b[0m numbers \u001b[38;5;241m=\u001b[39m [\u001b[38;5;241m1\u001b[39m, \u001b[38;5;241m2\u001b[39m, \u001b[38;5;241m3\u001b[39m, \u001b[38;5;241m4\u001b[39m, \u001b[38;5;241m5\u001b[39m]\n\u001b[0;32m----> 3\u001b[0m \u001b[38;5;28mprint\u001b[39m(\u001b[43mnumbers\u001b[49m\u001b[43m(\u001b[49m\u001b[38;5;241;43m4\u001b[39;49m\u001b[43m,\u001b[49m\u001b[38;5;241;43m0\u001b[39;49m\u001b[43m,\u001b[49m\u001b[38;5;241;43m-\u001b[39;49m\u001b[38;5;241;43m1\u001b[39;49m\u001b[43m)\u001b[49m)\n",
      "\u001b[0;31mTypeError\u001b[0m: 'list' object is not callable"
     ]
    }
   ],
   "source": [
    "numbers = [1, 2, 3, 4, 5]\n",
    "\n",
    "print(numbers(4,0,-1))"
   ]
  },
  {
   "cell_type": "code",
   "execution_count": 46,
   "id": "c1601f46-c134-4f20-9591-41a767f95948",
   "metadata": {},
   "outputs": [
    {
     "ename": "TypeError",
     "evalue": "list indices must be integers or slices, not tuple",
     "output_type": "error",
     "traceback": [
      "\u001b[0;31m---------------------------------------------------------------------------\u001b[0m",
      "\u001b[0;31mTypeError\u001b[0m                                 Traceback (most recent call last)",
      "Cell \u001b[0;32mIn[46], line 3\u001b[0m\n\u001b[1;32m      1\u001b[0m numbers \u001b[38;5;241m=\u001b[39m [\u001b[38;5;241m1\u001b[39m, \u001b[38;5;241m2\u001b[39m, \u001b[38;5;241m3\u001b[39m, \u001b[38;5;241m4\u001b[39m, \u001b[38;5;241m5\u001b[39m]\n\u001b[0;32m----> 3\u001b[0m \u001b[38;5;28mprint\u001b[39m(\u001b[43mnumbers\u001b[49m\u001b[43m[\u001b[49m\u001b[38;5;241;43m4\u001b[39;49m\u001b[43m,\u001b[49m\u001b[38;5;241;43m0\u001b[39;49m\u001b[43m,\u001b[49m\u001b[38;5;241;43m-\u001b[39;49m\u001b[38;5;241;43m1\u001b[39;49m\u001b[43m]\u001b[49m)\n",
      "\u001b[0;31mTypeError\u001b[0m: list indices must be integers or slices, not tuple"
     ]
    }
   ],
   "source": [
    "numbers = [1, 2, 3, 4, 5]\n",
    "\n",
    "print(numbers[4,0,-1])"
   ]
  },
  {
   "cell_type": "code",
   "execution_count": 48,
   "id": "bf07555a-b3cb-4bca-8c14-5feb33613122",
   "metadata": {},
   "outputs": [
    {
     "name": "stdout",
     "output_type": "stream",
     "text": [
      "False\n",
      "True\n"
     ]
    }
   ],
   "source": [
    "numbers = [1, 2, 3, 4, 5, 15, 16, 17, 95, 96, 99]\n",
    "\n",
    "number1 = 8  # False (not in numbers)\n",
    "number2 = 95 # True (in numbers)\n",
    "\n",
    "print(number1 in numbers)\n",
    "print(number2 in numbers)"
   ]
  },
  {
   "cell_type": "code",
   "execution_count": 49,
   "id": "89521ab8-b240-49d0-97e6-b3824c8c76e6",
   "metadata": {},
   "outputs": [],
   "source": [
    "ten_onehundred = list(range(10,100,1))"
   ]
  },
  {
   "cell_type": "code",
   "execution_count": 50,
   "id": "1e5bb1a9-3a30-4aa5-9c65-46755eb8ee9a",
   "metadata": {},
   "outputs": [
    {
     "name": "stdout",
     "output_type": "stream",
     "text": [
      "[10, 11, 12, 13, 14, 15, 16, 17, 18, 19, 20, 21, 22, 23, 24, 25, 26, 27, 28, 29, 30, 31, 32, 33, 34, 35, 36, 37, 38, 39, 40, 41, 42, 43, 44, 45, 46, 47, 48, 49, 50, 51, 52, 53, 54, 55, 56, 57, 58, 59, 60, 61, 62, 63, 64, 65, 66, 67, 68, 69, 70, 71, 72, 73, 74, 75, 76, 77, 78, 79, 80, 81, 82, 83, 84, 85, 86, 87, 88, 89, 90, 91, 92, 93, 94, 95, 96, 97, 98, 99]\n"
     ]
    }
   ],
   "source": [
    "print(ten_onehundred)"
   ]
  },
  {
   "cell_type": "code",
   "execution_count": 51,
   "id": "838e2a93-0511-477e-afe1-4cde4d68c157",
   "metadata": {},
   "outputs": [
    {
     "name": "stdout",
     "output_type": "stream",
     "text": [
      "True\n",
      "True\n",
      "False\n"
     ]
    }
   ],
   "source": [
    "ten_onehundred = list(range(10,101,1))\n",
    "print(45 in ten_onehundred)\n",
    "print(100 in ten_onehundred)\n",
    "print(101 in ten_onehundred)"
   ]
  },
  {
   "cell_type": "code",
   "execution_count": 52,
   "id": "568d8d39-302e-45d4-ab50-fe0931b7a665",
   "metadata": {},
   "outputs": [
    {
     "name": "stdout",
     "output_type": "stream",
     "text": [
      "3\n"
     ]
    }
   ],
   "source": [
    "numbers = [1, 2, 3, 4, 5]\n",
    "numbers = numbers.pop(2)\n",
    "print(numbers)"
   ]
  },
  {
   "cell_type": "code",
   "execution_count": 53,
   "id": "4de82afa-f94c-41e6-a4a0-52bb4d80d2a4",
   "metadata": {},
   "outputs": [
    {
     "name": "stdout",
     "output_type": "stream",
     "text": [
      "[1, 2, 4, 5]\n"
     ]
    }
   ],
   "source": [
    "numbers = [1, 2, 3, 4, 5]\n",
    "numbers.pop(2)\n",
    "print(numbers)"
   ]
  },
  {
   "cell_type": "code",
   "execution_count": 54,
   "id": "36ccd0ef-289e-4b24-9f18-6dbbc1f3a854",
   "metadata": {},
   "outputs": [
    {
     "ename": "AttributeError",
     "evalue": "'dict' object has no attribute 'isinstance'",
     "output_type": "error",
     "traceback": [
      "\u001b[0;31m---------------------------------------------------------------------------\u001b[0m",
      "\u001b[0;31mAttributeError\u001b[0m                            Traceback (most recent call last)",
      "Cell \u001b[0;32mIn[54], line 3\u001b[0m\n\u001b[1;32m      1\u001b[0m numbers \u001b[38;5;241m=\u001b[39m [\u001b[38;5;241m1\u001b[39m, \u001b[38;5;241m2\u001b[39m, \u001b[38;5;241m3\u001b[39m, \u001b[38;5;241m4\u001b[39m]\n\u001b[1;32m      2\u001b[0m table \u001b[38;5;241m=\u001b[39m {\u001b[38;5;124m'\u001b[39m\u001b[38;5;124mfield1\u001b[39m\u001b[38;5;124m'\u001b[39m: \u001b[38;5;241m1\u001b[39m, \u001b[38;5;124m'\u001b[39m\u001b[38;5;124mfield2\u001b[39m\u001b[38;5;124m'\u001b[39m: \u001b[38;5;241m2\u001b[39m, \u001b[38;5;124m'\u001b[39m\u001b[38;5;124mfield3\u001b[39m\u001b[38;5;124m'\u001b[39m: \u001b[38;5;241m3\u001b[39m, \u001b[38;5;124m'\u001b[39m\u001b[38;5;124mfield4\u001b[39m\u001b[38;5;124m'\u001b[39m: \u001b[38;5;241m4\u001b[39m}\n\u001b[0;32m----> 3\u001b[0m \u001b[38;5;28mprint\u001b[39m(\u001b[43mtable\u001b[49m\u001b[38;5;241;43m.\u001b[39;49m\u001b[43misinstance\u001b[49m(\u001b[38;5;28mlist\u001b[39m))\n",
      "\u001b[0;31mAttributeError\u001b[0m: 'dict' object has no attribute 'isinstance'"
     ]
    }
   ],
   "source": [
    "\n",
    "numbers = [1, 2, 3, 4]\n",
    "table = {'field1': 1, 'field2': 2, 'field3': 3, 'field4': 4}\n",
    "print(table.isinstance(list))"
   ]
  },
  {
   "cell_type": "code",
   "execution_count": 55,
   "id": "083ea51f-e254-481d-8397-4d56a457173d",
   "metadata": {},
   "outputs": [
    {
     "name": "stdout",
     "output_type": "stream",
     "text": [
      "True\n"
     ]
    }
   ],
   "source": [
    "numbers = [1, 2, 3, 4]\n",
    "table = {'field1': 1, 'field2': 2, 'field3': 3, 'field4': 4}\n",
    "\n",
    "print(isinstance(numbers, list))"
   ]
  },
  {
   "cell_type": "code",
   "execution_count": 56,
   "id": "d69f5f1b-6555-4130-a4d0-da341d733615",
   "metadata": {},
   "outputs": [
    {
     "ename": "SyntaxError",
     "evalue": "invalid syntax (2884371968.py, line 2)",
     "output_type": "error",
     "traceback": [
      "\u001b[0;36m  Cell \u001b[0;32mIn[56], line 2\u001b[0;36m\u001b[0m\n\u001b[0;31m    print(title : ^30)\u001b[0m\n\u001b[0m                ^\u001b[0m\n\u001b[0;31mSyntaxError\u001b[0m\u001b[0;31m:\u001b[0m invalid syntax\n"
     ]
    }
   ],
   "source": [
    "title = \"Flintstone Family Members\"\n",
    "print(title : ^30)"
   ]
  },
  {
   "cell_type": "code",
   "execution_count": 57,
   "id": "f0e6bfd1-4dfa-4076-996f-92f9ecce2ecc",
   "metadata": {},
   "outputs": [
    {
     "ename": "SyntaxError",
     "evalue": "f-string: single '}' is not allowed (1299545577.py, line 2)",
     "output_type": "error",
     "traceback": [
      "\u001b[0;36m  Cell \u001b[0;32mIn[57], line 2\u001b[0;36m\u001b[0m\n\u001b[0;31m    print(f\"{{title} : ^30}\")\u001b[0m\n\u001b[0m                            ^\u001b[0m\n\u001b[0;31mSyntaxError\u001b[0m\u001b[0;31m:\u001b[0m f-string: single '}' is not allowed\n"
     ]
    }
   ],
   "source": [
    "title = \"Flintstone Family Members\"\n",
    "print(f\"{{title} : ^30}\")"
   ]
  },
  {
   "cell_type": "code",
   "execution_count": 58,
   "id": "10718316-690f-4ae6-b5f1-0f22cd602bbf",
   "metadata": {},
   "outputs": [
    {
     "name": "stdout",
     "output_type": "stream",
     "text": [
      "       Flintstone Family Members        \n"
     ]
    }
   ],
   "source": [
    "title = \"Flintstone Family Members\"\n",
    "centered_title = title.center(40)\n",
    "print(centered_title)"
   ]
  },
  {
   "cell_type": "code",
   "execution_count": 59,
   "id": "4f12c152-1a4f-4c3b-a866-bcdf35943717",
   "metadata": {},
   "outputs": [
    {
     "name": "stdout",
     "output_type": "stream",
     "text": [
      "2 0\n"
     ]
    }
   ],
   "source": [
    "statement1 = \"The Flintstones Rock!\"\n",
    "statement2 = \"Easy come, easy go.\"\n",
    "\n",
    "print(statement1.count('t'), statement2.count('t'))"
   ]
  },
  {
   "cell_type": "code",
   "execution_count": 60,
   "id": "0fa1ae52-a14c-4ced-94d3-5a61a85856ea",
   "metadata": {},
   "outputs": [
    {
     "data": {
      "text/plain": [
       "False"
      ]
     },
     "execution_count": 60,
     "metadata": {},
     "output_type": "execute_result"
    }
   ],
   "source": [
    "ages = {'Herman': 32, 'Lily': 30, 'Grandpa': 402, 'Eddie': 10}\n",
    "\n",
    "'Spot' in ages"
   ]
  },
  {
   "cell_type": "code",
   "execution_count": 61,
   "id": "def0884b-4df1-4f67-a1bf-58042ac10a9c",
   "metadata": {},
   "outputs": [],
   "source": [
    "ages = {'Herman': 32, 'Lily': 30, 'Grandpa': 5843, 'Eddie': 10}\n",
    "\n",
    "additional_ages = {'Marilyn': 22, 'Spot': 237}\n",
    "\n",
    "ages.update(additional_ages)"
   ]
  },
  {
   "cell_type": "code",
   "execution_count": 62,
   "id": "ab3dce0e-34ab-4f55-b3e1-6734fbd9341b",
   "metadata": {},
   "outputs": [
    {
     "name": "stdout",
     "output_type": "stream",
     "text": [
      "{'Herman': 32, 'Lily': 30, 'Grandpa': 5843, 'Eddie': 10, 'Marilyn': 22, 'Spot': 237}\n"
     ]
    }
   ],
   "source": [
    "ages = {'Herman': 32, 'Lily': 30, 'Grandpa': 5843, 'Eddie': 10}\n",
    "\n",
    "additional_ages = {'Marilyn': 22, 'Spot': 237}\n",
    "\n",
    "ages.update(additional_ages)\n",
    "\n",
    "print(ages)"
   ]
  },
  {
   "cell_type": "code",
   "execution_count": 63,
   "id": "d38916c8-e9cc-49da-9d8a-f9b8738ebcfc",
   "metadata": {},
   "outputs": [
    {
     "name": "stdout",
     "output_type": "stream",
     "text": [
      "{'Herman': 32, 'Lily': 30, 'Grandpa': 5843, 'Eddie': 10, 'Marilyn': 22, 'Spot': 237}\n"
     ]
    }
   ],
   "source": [
    "ages = {'Herman': 32, 'Lily': 30, 'Grandpa': 5843, 'Eddie': 10}\n",
    "\n",
    "additional_ages = {'Marilyn': 22, 'Spot': 237}\n",
    "\n",
    "ages |= additional_ages\n",
    "\n",
    "print(ages)"
   ]
  },
  {
   "cell_type": "code",
   "execution_count": 64,
   "id": "ea1005c4-a7fd-4dfb-a8a9-e8f8188fc716",
   "metadata": {},
   "outputs": [],
   "source": [
    "def is_color_valid(color):\n",
    "    return color == \"blue\" or color == \"green\"\n",
    "\n"
   ]
  },
  {
   "cell_type": "code",
   "execution_count": 65,
   "id": "7be1fd12-5fcd-4ec5-b237-61df31a9ce69",
   "metadata": {},
   "outputs": [
    {
     "ename": "NameError",
     "evalue": "name 'green' is not defined",
     "output_type": "error",
     "traceback": [
      "\u001b[0;31m---------------------------------------------------------------------------\u001b[0m",
      "\u001b[0;31mNameError\u001b[0m                                 Traceback (most recent call last)",
      "Cell \u001b[0;32mIn[65], line 1\u001b[0m\n\u001b[0;32m----> 1\u001b[0m color \u001b[38;5;241m=\u001b[39m \u001b[43mgreen\u001b[49m\n\u001b[1;32m      2\u001b[0m is_color_valid(color)\n",
      "\u001b[0;31mNameError\u001b[0m: name 'green' is not defined"
     ]
    }
   ],
   "source": [
    "color = green\n",
    "is_color_valid(color)"
   ]
  },
  {
   "cell_type": "code",
   "execution_count": 66,
   "id": "0981c177-2cfa-471d-bba5-e89ef26652d9",
   "metadata": {},
   "outputs": [
    {
     "data": {
      "text/plain": [
       "True"
      ]
     },
     "execution_count": 66,
     "metadata": {},
     "output_type": "execute_result"
    }
   ],
   "source": [
    "def is_color_valid(color):\n",
    "    return color == \"blue\" or color == \"green\"\n",
    "\n",
    "color = \"green\"\n",
    "is_color_valid(color)"
   ]
  },
  {
   "cell_type": "code",
   "execution_count": 67,
   "id": "898978ff-5742-4eb8-8c92-29bac3dbfb0c",
   "metadata": {},
   "outputs": [
    {
     "ename": "SyntaxError",
     "evalue": "invalid syntax (4145071055.py, line 2)",
     "output_type": "error",
     "traceback": [
      "\u001b[0;36m  Cell \u001b[0;32mIn[67], line 2\u001b[0;36m\u001b[0m\n\u001b[0;31m    return not color not \"blue\" or \"green\"\u001b[0m\n\u001b[0m                         ^\u001b[0m\n\u001b[0;31mSyntaxError\u001b[0m\u001b[0;31m:\u001b[0m invalid syntax\n"
     ]
    }
   ],
   "source": [
    "def is_color_valid(color):\n",
    "   return not color not \"blue\" or \"green\"\n",
    "\n",
    "color = \"green\"\n",
    "is_color_valid(color)"
   ]
  },
  {
   "cell_type": "code",
   "execution_count": 68,
   "id": "e6df2f2a-7556-4f0c-812b-99f40eaba8d5",
   "metadata": {},
   "outputs": [
    {
     "data": {
      "text/plain": [
       "False"
      ]
     },
     "execution_count": 68,
     "metadata": {},
     "output_type": "execute_result"
    }
   ],
   "source": [
    "def is_color_valid(color):\n",
    "    return not (color != \"blue\" or color != \"green\")\n",
    "\n",
    "color = \"green\"\n",
    "is_color_valid(color)"
   ]
  },
  {
   "cell_type": "code",
   "execution_count": 69,
   "id": "acdcf9d2-3bb8-40ee-b897-28d739c52534",
   "metadata": {},
   "outputs": [
    {
     "data": {
      "text/plain": [
       "True"
      ]
     },
     "execution_count": 69,
     "metadata": {},
     "output_type": "execute_result"
    }
   ],
   "source": [
    "def is_color_valid(color):\n",
    "    return (color != \"blue\" or color != \"green\")\n",
    "\n",
    "color = \"green\"\n",
    "is_color_valid(color)"
   ]
  },
  {
   "cell_type": "code",
   "execution_count": 70,
   "id": "a4df3765-b7b6-431b-9fc4-1c5fee52c71c",
   "metadata": {},
   "outputs": [
    {
     "data": {
      "text/plain": [
       "True"
      ]
     },
     "execution_count": 70,
     "metadata": {},
     "output_type": "execute_result"
    }
   ],
   "source": [
    "def is_color_valid(color):\n",
    "    return (color != \"blue\" or color != \"green\")\n",
    "\n",
    "color = \"blue\"\n",
    "is_color_valid(color)"
   ]
  },
  {
   "cell_type": "code",
   "execution_count": 71,
   "id": "163f9335-85de-4515-ba82-8684a6c401fc",
   "metadata": {},
   "outputs": [
    {
     "data": {
      "text/plain": [
       "False"
      ]
     },
     "execution_count": 71,
     "metadata": {},
     "output_type": "execute_result"
    }
   ],
   "source": [
    "def is_color_valid(color):\n",
    "    return not (color != \"blue\" or color != \"green\")\n",
    "\n",
    "color = \"gg\"\n",
    "is_color_valid(color)"
   ]
  },
  {
   "cell_type": "code",
   "execution_count": 72,
   "id": "f2f42fdc-d77b-4ced-b40d-80981c04b95c",
   "metadata": {},
   "outputs": [
    {
     "ename": "SyntaxError",
     "evalue": "invalid syntax (3711874699.py, line 6)",
     "output_type": "error",
     "traceback": [
      "\u001b[0;36m  Cell \u001b[0;32mIn[72], line 6\u001b[0;36m\u001b[0m\n\u001b[0;31m    print(counter * -)\u001b[0m\n\u001b[0m                     ^\u001b[0m\n\u001b[0;31mSyntaxError\u001b[0m\u001b[0;31m:\u001b[0m invalid syntax\n"
     ]
    }
   ],
   "source": [
    "flintstones_rock = \"The Flintstones Rock\"\n",
    "\n",
    "counter = 1\n",
    "\n",
    "while counter <= 10:\n",
    "    print(counter * -)\n",
    "    counter += 1"
   ]
  },
  {
   "cell_type": "code",
   "execution_count": 73,
   "id": "20726d6b-ba75-4e0b-9cbd-a6ebd6b8d939",
   "metadata": {},
   "outputs": [
    {
     "name": "stdout",
     "output_type": "stream",
     "text": [
      "-\n",
      "--\n",
      "---\n",
      "----\n",
      "-----\n",
      "------\n",
      "-------\n",
      "--------\n",
      "---------\n",
      "----------\n"
     ]
    }
   ],
   "source": [
    "flintstones_rock = \"The Flintstones Rock\"\n",
    "\n",
    "counter = 1\n",
    "\n",
    "while counter <= 10:\n",
    "    print((counter * '-'))\n",
    "    counter += 1"
   ]
  },
  {
   "cell_type": "code",
   "execution_count": 75,
   "id": "9866854c-c03d-4307-867c-35089f7deefa",
   "metadata": {},
   "outputs": [],
   "source": [
    "def factors(number):\n",
    "    divisor = number\n",
    "    result = []\n",
    "    while divisor != 0:\n",
    "        if number % divisor == 0:\n",
    "            result.append(number // divisor)\n",
    "        divisor -= 1\n",
    "    return result\n"
   ]
  },
  {
   "cell_type": "raw",
   "id": "63f31220-46eb-47e6-a3db-39cf490845fc",
   "metadata": {},
   "source": [
    "factors(4)"
   ]
  },
  {
   "cell_type": "code",
   "execution_count": 77,
   "id": "00983c32-c8f7-405c-8e5c-db617e437e62",
   "metadata": {},
   "outputs": [
    {
     "name": "stdout",
     "output_type": "stream",
     "text": [
      "[1, 2, 4]\n"
     ]
    }
   ],
   "source": [
    "def factors(number):\n",
    "    divisor = number\n",
    "    result = []\n",
    "    while divisor != 0:\n",
    "        if number < 0:\n",
    "            return \"Must be a positive integer\"\n",
    "        elif number % divisor == 0:\n",
    "            result.append(number // divisor)\n",
    "        divisor -= 1\n",
    "    return result\n",
    "\n",
    "print(factors(4))"
   ]
  },
  {
   "cell_type": "code",
   "execution_count": 78,
   "id": "089dae49-439a-4760-b974-aacafdb22b54",
   "metadata": {},
   "outputs": [
    {
     "name": "stdout",
     "output_type": "stream",
     "text": [
      "Must be a positive integer\n"
     ]
    }
   ],
   "source": [
    "def factors(number):\n",
    "    divisor = number\n",
    "    result = []\n",
    "    while divisor != 0:\n",
    "        if number < 0:\n",
    "            return \"Must be a positive integer\"\n",
    "        elif number % divisor == 0:\n",
    "            result.append(number // divisor)\n",
    "        divisor -= 1\n",
    "    return result\n",
    "\n",
    "print(factors(-4))"
   ]
  },
  {
   "cell_type": "code",
   "execution_count": null,
   "id": "e33f426f-7257-4bf5-9d59-5c19e3dee69a",
   "metadata": {},
   "outputs": [],
   "source": [
    "def is_an_ip_number(str):\n",
    "    if str.isdigit():\n",
    "        number = int(str)\n",
    "        return 0 <= number <= 255\n",
    "    return False\n",
    "    \n",
    "def is_dot_separated_ip_address(input_string):\n",
    "    dot_separated_words = input_string.split(\".\")\n",
    "    while len(dot_separated_words) == 4:\n",
    "        word = dot_separated_words.pop()\n",
    "        if not is_an_ip_number(word):\n",
    "            return False\n",
    "\n",
    "    return True\n",
    "\n"
   ]
  }
 ],
 "metadata": {
  "kernelspec": {
   "display_name": "Python 3 (ipykernel)",
   "language": "python",
   "name": "python3"
  },
  "language_info": {
   "codemirror_mode": {
    "name": "ipython",
    "version": 3
   },
   "file_extension": ".py",
   "mimetype": "text/x-python",
   "name": "python",
   "nbconvert_exporter": "python",
   "pygments_lexer": "ipython3",
   "version": "3.10.14"
  }
 },
 "nbformat": 4,
 "nbformat_minor": 5
}
